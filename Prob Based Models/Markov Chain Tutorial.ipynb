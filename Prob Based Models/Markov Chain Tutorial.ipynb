{
 "cells": [
  {
   "cell_type": "code",
   "execution_count": 118,
   "metadata": {},
   "outputs": [],
   "source": [
    "# packages\n",
    "import numpy as np\n",
    "import random as rn"
   ]
  },
  {
   "cell_type": "code",
   "execution_count": 119,
   "metadata": {},
   "outputs": [],
   "source": [
    "# 3 states, matrix is going to be 3x3 matrix\n",
    "state = ['Sunny', 'Cloudy', 'Rainy']\n",
    "\n",
    "# possible sequence of events\n",
    "transitionName = [[\"SS\", \"SC\", \"SR\"],\n",
    "                  [\"CS\", \"CC\", \"CR\"], \n",
    "                  [\"RS\", \"RC\", \"RR\"]]\n",
    "\n",
    "# prob matrix, or transition matrix\n",
    "transitionMatrix = np.atleast_2d(\n",
    "                    [[0.75, 0.15, 0.10],\n",
    "                     [0.20, 0.40, 0.40],\n",
    "                     [0.40, 0.30, 0.30]])"
   ]
  },
  {
   "cell_type": "code",
   "execution_count": 120,
   "metadata": {},
   "outputs": [
    {
     "name": "stdout",
     "output_type": "stream",
     "text": [
      "\n",
      "Total Probabilities for each row: 3.0\n"
     ]
    }
   ],
   "source": [
    "# function to check if prob for each row add up to 1\n",
    "def sum_up(input):\n",
    "    return sum(map(sum, input))\n",
    "\n",
    "def sum_up_alt(input):\n",
    "    total = 0\n",
    "    for i in input:\n",
    "        total += sum(i)\n",
    "    return total\n",
    "\n",
    "print(\"\\nTotal Probabilities for each row:\", sum_up(transitionMatrix))"
   ]
  },
  {
   "cell_type": "code",
   "execution_count": 121,
   "metadata": {},
   "outputs": [
    {
     "name": "stdout",
     "output_type": "stream",
     "text": [
      "\n",
      "Weather predicts for the next 10 days: ['Cloudy', 'Sunny', 'Cloudy', 'Sunny', 'Cloudy', 'Sunny', 'Sunny', 'Sunny', 'Sunny', 'Sunny']\n"
     ]
    }
   ],
   "source": [
    "# quick way for future state without using class\n",
    "start_state = 'Sunny'\n",
    "number_of_future_state = 10\n",
    "\n",
    "index_dict = {state[index]: index for index in range(len(state))}\n",
    "\n",
    "future_state = []\n",
    "for i in range(number_of_future_state):\n",
    "    new_state = np.random.choice(state, p=transitionMatrix[index_dict[start_state], :])\n",
    "    future_state.append(new_state)\n",
    "\n",
    "print(\"\\nWeather predicts for the next 10 days:\", future_state)"
   ]
  },
  {
   "cell_type": "code",
   "execution_count": 122,
   "metadata": {},
   "outputs": [],
   "source": [
    "# Markov Chain class to accept transition prob\n",
    "class MarkovChain(object):\n",
    "    \n",
    "    def __init__(self, transition_prob):\n",
    "        '''\n",
    "        Initialize the MarkovChain Instance\n",
    "        Parameters\n",
    "        -----------\n",
    "        transition prob: dict\n",
    "            A dict object representing the transition prob in Markov Chain.\n",
    "            Form: {'state1': {'state1': 0.1, 'state2': 0.4}}\n",
    "        '''\n",
    "        self.transition_prob = transition_prob\n",
    "        self.states = list(transition_prob.keys())\n",
    "    \n",
    "    \n",
    "    def next_state(self, current_state): \n",
    "        \"\"\"\n",
    "        Returns the state of the random variable at the next time instance\n",
    "        Parameters\n",
    "        -----------\n",
    "        current state: str, current state of the system\n",
    "        \"\"\"   \n",
    "        return np.random.choice(self.states, p=[self.transition_prob[current_state][next_state]for next_state in self.states])\n",
    "\n",
    "    \n",
    "    def generate_states(self, current_state, number=10):\n",
    "        \"\"\"\n",
    "        Generates the next states of the system.\n",
    "        Parameters\n",
    "        -----------\n",
    "        current state: str, the state of current random variable\n",
    "        no: int, the number of future state to generate\n",
    "        \"\"\"\n",
    "        future_states = []\n",
    "        for i in range(number):\n",
    "            next_state = self.next_state(current_state)\n",
    "            future_states.append(next_state)\n",
    "            current_state = next_state\n",
    "        return future_states\n",
    "    "
   ]
  },
  {
   "cell_type": "code",
   "execution_count": 123,
   "metadata": {},
   "outputs": [],
   "source": [
    "transitionProb = {'Sunny':  {'Sunny':0.75, 'Rainy':0.15, 'Cloudy':0.10}, \n",
    "                     'Cloudy': {'Sunny':0.20, 'Rainy':0.40, 'Cloudy':0.40}, \n",
    "                     'Rainy':  {'Sunny':0.40, 'Rainy':0.30, 'Cloudy':0.30}}"
   ]
  },
  {
   "cell_type": "code",
   "execution_count": 124,
   "metadata": {},
   "outputs": [
    {
     "data": {
      "text/plain": [
       "'Sunny'"
      ]
     },
     "execution_count": 124,
     "metadata": {},
     "output_type": "execute_result"
    }
   ],
   "source": [
    "weather = MarkovChain(transition_prob = transitionProb)\n",
    "weather.next_state(current_state = 'Sunny')"
   ]
  },
  {
   "cell_type": "code",
   "execution_count": 108,
   "metadata": {},
   "outputs": [
    {
     "data": {
      "text/plain": [
       "'Rainy'"
      ]
     },
     "execution_count": 108,
     "metadata": {},
     "output_type": "execute_result"
    }
   ],
   "source": [
    "weather.next_state(current_state = 'Cloudy')"
   ]
  },
  {
   "cell_type": "code",
   "execution_count": 111,
   "metadata": {},
   "outputs": [
    {
     "data": {
      "text/plain": [
       "['Cloudy',\n",
       " 'Rainy',\n",
       " 'Sunny',\n",
       " 'Sunny',\n",
       " 'Sunny',\n",
       " 'Sunny',\n",
       " 'Sunny',\n",
       " 'Sunny',\n",
       " 'Sunny',\n",
       " 'Cloudy']"
      ]
     },
     "execution_count": 111,
     "metadata": {},
     "output_type": "execute_result"
    }
   ],
   "source": [
    "weather.generate_states(current_state = 'Rainy', number=10)"
   ]
  },
  {
   "cell_type": "code",
   "execution_count": 133,
   "metadata": {},
   "outputs": [],
   "source": [
    "# Markov Chain class to accept transition matrix\n",
    "class MarkovChainTransitionMatrix(object):\n",
    "    \n",
    "    def __init__(self, transition_matrix, states):\n",
    "        '''\n",
    "        Initialize the MarkovChain Instance\n",
    "        Parameters\n",
    "        -----------\n",
    "        change transition_prob to matrix: 2D array\n",
    "            A 2-D array for prob of change of state in the Markov Chain\n",
    "        '''\n",
    "        self.transition_matrix = transition_matrix\n",
    "        self.states = states\n",
    "        self.index_dict = {self.states[index]: index for index in \n",
    "                           range(len(self.states))}\n",
    "        self.state_dict = {index: self.states[index] for index in \n",
    "                          range(len(self.states))}\n",
    "    \n",
    "    def next_state(self, current_state): \n",
    "        \"\"\"\n",
    "        Returns the state of the random variable at the next time instance\n",
    "        Parameters\n",
    "        -----------\n",
    "        current state: str, current state of the system\n",
    "        \"\"\"   \n",
    "        return np.random.choice(self.states, \n",
    "                                p=self.transition_matrix[self.index_dict[current_state], :])\n",
    "\n",
    "    \n",
    "    def generate_states(self, current_state, number=10):\n",
    "        \"\"\"\n",
    "        Generates the next states of the system.\n",
    "        Parameters\n",
    "        -----------\n",
    "        current state: str, the state of current random variable\n",
    "        no: int, the number of future state to generate\n",
    "        \"\"\"\n",
    "        future_states = []\n",
    "        for i in range(number):\n",
    "            next_state = self.next_state(current_state)\n",
    "            future_states.append(next_state)\n",
    "            current_state = next_state\n",
    "        return future_states"
   ]
  },
  {
   "cell_type": "code",
   "execution_count": 136,
   "metadata": {},
   "outputs": [
    {
     "data": {
      "text/plain": [
       "'Sunny'"
      ]
     },
     "execution_count": 136,
     "metadata": {},
     "output_type": "execute_result"
    }
   ],
   "source": [
    "weather_m = MarkovChainTransitionMatrix(transition_matrix = transitionMatrix, \n",
    "                      states = state)\n",
    "weather_m.next_state(current_state = 'Sunny')"
   ]
  },
  {
   "cell_type": "code",
   "execution_count": 137,
   "metadata": {},
   "outputs": [
    {
     "data": {
      "text/plain": [
       "'Rainy'"
      ]
     },
     "execution_count": 137,
     "metadata": {},
     "output_type": "execute_result"
    }
   ],
   "source": [
    "weather_m.next_state(current_state = 'Cloudy')"
   ]
  },
  {
   "cell_type": "code",
   "execution_count": 138,
   "metadata": {},
   "outputs": [
    {
     "data": {
      "text/plain": [
       "['Rainy',\n",
       " 'Rainy',\n",
       " 'Rainy',\n",
       " 'Rainy',\n",
       " 'Cloudy',\n",
       " 'Rainy',\n",
       " 'Cloudy',\n",
       " 'Rainy',\n",
       " 'Cloudy',\n",
       " 'Cloudy']"
      ]
     },
     "execution_count": 138,
     "metadata": {},
     "output_type": "execute_result"
    }
   ],
   "source": [
    "weather_m.generate_states(current_state = 'Rainy', number=10)"
   ]
  }
 ],
 "metadata": {
  "kernelspec": {
   "display_name": "Python 3",
   "language": "python",
   "name": "python3"
  },
  "language_info": {
   "codemirror_mode": {
    "name": "ipython",
    "version": 3
   },
   "file_extension": ".py",
   "mimetype": "text/x-python",
   "name": "python",
   "nbconvert_exporter": "python",
   "pygments_lexer": "ipython3",
   "version": "3.7.4"
  }
 },
 "nbformat": 4,
 "nbformat_minor": 2
}
