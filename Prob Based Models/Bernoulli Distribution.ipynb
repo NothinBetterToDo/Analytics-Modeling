{
 "cells": [
  {
   "cell_type": "markdown",
   "metadata": {},
   "source": [
    "### Bernoulli Distribution\n",
    "\n",
    "A discrete probability distribution, modeling a single event. Use case scenario e.g. got a job or not, pass or fail of a test. "
   ]
  },
  {
   "cell_type": "code",
   "execution_count": 14,
   "metadata": {},
   "outputs": [],
   "source": [
    "import numpy as np \n",
    "\n",
    "# Bernoulli class \n",
    "class Bernoulli(object):\n",
    "    \n",
    "    def pmf(x, p):\n",
    "        '''\n",
    "        Prob Mass Function\n",
    "        '''\n",
    "        f = p**x * (1-p)**(1-x)\n",
    "        return f\n",
    "    \n",
    "    def mean(p):\n",
    "        '''\n",
    "        Mean of expected value of Bernoulli distribution is p\n",
    "        '''\n",
    "        return p \n",
    "    \n",
    "    def var(p):\n",
    "        '''\n",
    "        Variance of x\n",
    "        '''\n",
    "        return p*(1-p)\n",
    "    \n",
    "    def std(p):\n",
    "        '''\n",
    "        Standard Dev is a root of variance\n",
    "        '''\n",
    "        return Bernoulli.var(p)**(1/2)\n",
    "    \n",
    "    def rvs(p, size=1):\n",
    "        rvs = np.array([])\n",
    "        for i in range(0, size):\n",
    "            if np.random.rand() <= p:\n",
    "                a = 1\n",
    "                rvs = np.append(rvs, a)\n",
    "            else:\n",
    "                a = 0 \n",
    "                rvs = np.append(rvs, a)\n",
    "        return rvs"
   ]
  },
  {
   "cell_type": "code",
   "execution_count": 15,
   "metadata": {},
   "outputs": [
    {
     "name": "stdout",
     "output_type": "stream",
     "text": [
      "Mean: 0.2\n",
      "Variance: 0.16000000000000003\n",
      "Standard Deviation: 0.4\n"
     ]
    }
   ],
   "source": [
    "# X = 1 if a test passes, X = 0 if a test fails \n",
    "\n",
    "# prob of a test passes\n",
    "p = 0.2 \n",
    "\n",
    "print('Mean:', Bernoulli.mean(p))\n",
    "print('Variance:', Bernoulli.var(p))\n",
    "print('Standard Deviation:', Bernoulli.std(p))\n"
   ]
  },
  {
   "cell_type": "code",
   "execution_count": 16,
   "metadata": {},
   "outputs": [
    {
     "name": "stdout",
     "output_type": "stream",
     "text": [
      "[0. 0. 0. 0. 0. 1. 0. 0. 0. 0.]\n"
     ]
    }
   ],
   "source": [
    "print(Bernoulli.rvs(p, size=10))"
   ]
  },
  {
   "cell_type": "code",
   "execution_count": null,
   "metadata": {},
   "outputs": [],
   "source": []
  }
 ],
 "metadata": {
  "kernelspec": {
   "display_name": "Python 3",
   "language": "python",
   "name": "python3"
  },
  "language_info": {
   "codemirror_mode": {
    "name": "ipython",
    "version": 3
   },
   "file_extension": ".py",
   "mimetype": "text/x-python",
   "name": "python",
   "nbconvert_exporter": "python",
   "pygments_lexer": "ipython3",
   "version": "3.7.4"
  }
 },
 "nbformat": 4,
 "nbformat_minor": 2
}
