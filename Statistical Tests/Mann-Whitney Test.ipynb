{
 "cells": [
  {
   "cell_type": "markdown",
   "metadata": {},
   "source": [
    "Mann-Whitney U test is another non-parametric test, and can be used to compare two non-paired datasets. "
   ]
  },
  {
   "cell_type": "code",
   "execution_count": 4,
   "metadata": {},
   "outputs": [],
   "source": [
    "# packages \n",
    "from numpy.random import seed\n",
    "from numpy.random import rand\n",
    "from scipy.stats import mannwhitneyu"
   ]
  },
  {
   "cell_type": "code",
   "execution_count": 5,
   "metadata": {},
   "outputs": [],
   "source": [
    "# 2 datasets where survey respondents rated the overall likelihood of buying a product Z\n",
    "brandX = [3,4,2,6,2,5]\n",
    "brandY = [9,7,5,10,6,8]"
   ]
  },
  {
   "cell_type": "markdown",
   "metadata": {},
   "source": [
    "$$H_{0}: $$ <center>The distribution of the 2 datasets are the same.</center> <br>\n",
    "\n",
    "$$H_{1}: $$ <center>The distribution of 2 datasets are different.</center>"
   ]
  },
  {
   "cell_type": "code",
   "execution_count": 7,
   "metadata": {},
   "outputs": [
    {
     "name": "stdout",
     "output_type": "stream",
     "text": [
      "U = 2.000, p-value = 0.006\n"
     ]
    }
   ],
   "source": [
    "# conduct test\n",
    "stat, p = mannwhitneyu(brandX, brandY)\n",
    "\n",
    "# summarize the finding\n",
    "print(\"U = %.3f, p-value = %.3f\" % (stat, p))"
   ]
  },
  {
   "cell_type": "code",
   "execution_count": 10,
   "metadata": {},
   "outputs": [
    {
     "name": "stdout",
     "output_type": "stream",
     "text": [
      "We reject the null hypothesis. There is a sig.diff between the ratings given to each brand.\n"
     ]
    }
   ],
   "source": [
    "# p-value interpretation \n",
    "alpha = 0.05 \n",
    "if p < alpha:\n",
    "    print(\"We reject the null hypothesis. There is a sig.diff between the ratings given to each brand.\")\n",
    "else:\n",
    "    print(\"We fail to reject the null hypothesis. There is no sig.difference.\") "
   ]
  }
 ],
 "metadata": {
  "kernelspec": {
   "display_name": "Python 3",
   "language": "python",
   "name": "python3"
  },
  "language_info": {
   "codemirror_mode": {
    "name": "ipython",
    "version": 3
   },
   "file_extension": ".py",
   "mimetype": "text/x-python",
   "name": "python",
   "nbconvert_exporter": "python",
   "pygments_lexer": "ipython3",
   "version": "3.7.4"
  }
 },
 "nbformat": 4,
 "nbformat_minor": 2
}
