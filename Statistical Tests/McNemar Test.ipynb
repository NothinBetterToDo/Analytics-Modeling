{
 "cells": [
  {
   "cell_type": "code",
   "execution_count": null,
   "metadata": {},
   "outputs": [],
   "source": [
    "from statsmodels.stats.contingency_tables import mcnemar"
   ]
  },
  {
   "cell_type": "markdown",
   "metadata": {},
   "source": [
    "Assume: 2 vaccine treatments for a virus. \n",
    "\n",
    "A: 61/100 are successful \n",
    "<br>\n",
    "B: 68/100 are successful\n",
    "<br>\n",
    "\n",
    "We cannot conclude that Vaccine B definitely better than A, because it can be due to randomness. We can use McNemar test to determine if Vaccine B is better. \n",
    "\n",
    "$$H_{0}: $$ <center>Vaccine B is better than Vaccine A.</center> <br>\n",
    "\n",
    "$$H_{1}: $$ <center>Vaccine B and A are equally effective.</center>\n"
   ]
  },
  {
   "cell_type": "markdown",
   "metadata": {},
   "source": [
    "Scenario 1: \n",
    "\n",
    "| Vaccine | B success | B not successful | Row Total |\n",
    "| --- | --- | --- |--- |\n",
    "| A success | 61 | 0 | 61 |\n",
    "| A not successful | 7 | 32 | 39 |\n",
    "| Column Total| 68 | 32 | 100|\n",
    "\n",
    "\n",
    "Scenario 2: \n",
    "\n",
    "| Vaccine | B success | B not successful | Row Total |\n",
    "| --- | --- | --- |--- |\n",
    "| A success | 41 | 20 | 61 |\n",
    "| A not successful | 27 | 12 | 39|\n",
    "| Column Total| 68 | 32 | 100|\n"
   ]
  },
  {
   "cell_type": "code",
   "execution_count": 16,
   "metadata": {},
   "outputs": [
    {
     "name": "stdout",
     "output_type": "stream",
     "text": [
      "chi-squared = 0.000, p-value = 0.016\n"
     ]
    }
   ],
   "source": [
    "# contingency table for Scenario 1\n",
    "scenario1 = [[61, 0],\n",
    "             [7, 32]]\n",
    "\n",
    "# calculate mcnemar test\n",
    "test1 = mcnemar(scenario1, exact = True)\n",
    "\n",
    "# summarize the finding\n",
    "print(\"chi-squared = %.3f, p-value = %.3f\" % (test1.statistic, test1.pvalue))"
   ]
  },
  {
   "cell_type": "code",
   "execution_count": 19,
   "metadata": {},
   "outputs": [
    {
     "name": "stdout",
     "output_type": "stream",
     "text": [
      "We fail to reject the null hypothesis. Vaccine B is effective than A.\n"
     ]
    }
   ],
   "source": [
    "# p-value interpretation \n",
    "alpha = 0.05 \n",
    "if test1.pvalue < alpha:\n",
    "    print(\"We fail to reject the null hypothesis. Vaccine B is effective than A.\")\n",
    "else:\n",
    "    print(\"We reject the null hypothesis. There was no difference between the 2 groups.\")"
   ]
  },
  {
   "cell_type": "code",
   "execution_count": 20,
   "metadata": {},
   "outputs": [
    {
     "name": "stdout",
     "output_type": "stream",
     "text": [
      "chi-squared = 20.000, p-value = 0.382\n"
     ]
    }
   ],
   "source": [
    "# contingency table for Scenario 2\n",
    "scenario2 = [[41, 20],\n",
    "             [27, 12]]\n",
    "\n",
    "# calculate mcnemar test\n",
    "test2 = mcnemar(scenario2, exact = True)\n",
    "\n",
    "# summarize the finding\n",
    "print(\"chi-squared = %.3f, p-value = %.3f\" % (test2.statistic, test2.pvalue))"
   ]
  },
  {
   "cell_type": "code",
   "execution_count": 21,
   "metadata": {},
   "outputs": [
    {
     "name": "stdout",
     "output_type": "stream",
     "text": [
      "We reject the null hypothesis. There was no difference between the 2 groups.\n"
     ]
    }
   ],
   "source": [
    "# p-value interpretation \n",
    "alpha = 0.05 \n",
    "if test2.pvalue < alpha:\n",
    "    print(\"We fail to reject the null hypothesis. Vaccine B is effective than A.\")\n",
    "else:\n",
    "    print(\"We reject the null hypothesis. There was no difference between the 2 groups.\")"
   ]
  }
 ],
 "metadata": {
  "kernelspec": {
   "display_name": "Python 3",
   "language": "python",
   "name": "python3"
  },
  "language_info": {
   "codemirror_mode": {
    "name": "ipython",
    "version": 3
   },
   "file_extension": ".py",
   "mimetype": "text/x-python",
   "name": "python",
   "nbconvert_exporter": "python",
   "pygments_lexer": "ipython3",
   "version": "3.7.4"
  }
 },
 "nbformat": 4,
 "nbformat_minor": 2
}
